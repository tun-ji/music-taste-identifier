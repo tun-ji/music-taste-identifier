{
 "cells": [
  {
   "cell_type": "markdown",
   "id": "3e0f25d6",
   "metadata": {},
   "source": [
    "## Music Genre Recommender\n",
    "PROBLEM: Based on user profiles, we want to recommend music genres to users after they sign up to improve revenue and retention. We're assuming, based on the given data that men between 20-25 like Hip-hop, 26-30 like Jazz, and 30 and above like Classical music. We're also assuming that women between 20-25 like Dance music, 26-30 like Acoustic, and 30 and above like Classical.\n",
    "\n",
    "Tutorial link: https://www.youtube.com/watch?v=7eh4d6sabA0"
   ]
  },
  {
   "cell_type": "code",
   "execution_count": 21,
   "id": "58c31624",
   "metadata": {},
   "outputs": [
    {
     "data": {
      "text/html": [
       "<div>\n",
       "<style scoped>\n",
       "    .dataframe tbody tr th:only-of-type {\n",
       "        vertical-align: middle;\n",
       "    }\n",
       "\n",
       "    .dataframe tbody tr th {\n",
       "        vertical-align: top;\n",
       "    }\n",
       "\n",
       "    .dataframe thead th {\n",
       "        text-align: right;\n",
       "    }\n",
       "</style>\n",
       "<table border=\"1\" class=\"dataframe\">\n",
       "  <thead>\n",
       "    <tr style=\"text-align: right;\">\n",
       "      <th></th>\n",
       "      <th>age</th>\n",
       "      <th>gender</th>\n",
       "    </tr>\n",
       "  </thead>\n",
       "  <tbody>\n",
       "    <tr>\n",
       "      <th>count</th>\n",
       "      <td>18.000000</td>\n",
       "      <td>18.000000</td>\n",
       "    </tr>\n",
       "    <tr>\n",
       "      <th>mean</th>\n",
       "      <td>27.944444</td>\n",
       "      <td>0.500000</td>\n",
       "    </tr>\n",
       "    <tr>\n",
       "      <th>std</th>\n",
       "      <td>5.127460</td>\n",
       "      <td>0.514496</td>\n",
       "    </tr>\n",
       "    <tr>\n",
       "      <th>min</th>\n",
       "      <td>20.000000</td>\n",
       "      <td>0.000000</td>\n",
       "    </tr>\n",
       "    <tr>\n",
       "      <th>25%</th>\n",
       "      <td>25.000000</td>\n",
       "      <td>0.000000</td>\n",
       "    </tr>\n",
       "    <tr>\n",
       "      <th>50%</th>\n",
       "      <td>28.000000</td>\n",
       "      <td>0.500000</td>\n",
       "    </tr>\n",
       "    <tr>\n",
       "      <th>75%</th>\n",
       "      <td>31.000000</td>\n",
       "      <td>1.000000</td>\n",
       "    </tr>\n",
       "    <tr>\n",
       "      <th>max</th>\n",
       "      <td>37.000000</td>\n",
       "      <td>1.000000</td>\n",
       "    </tr>\n",
       "  </tbody>\n",
       "</table>\n",
       "</div>"
      ],
      "text/plain": [
       "             age     gender\n",
       "count  18.000000  18.000000\n",
       "mean   27.944444   0.500000\n",
       "std     5.127460   0.514496\n",
       "min    20.000000   0.000000\n",
       "25%    25.000000   0.000000\n",
       "50%    28.000000   0.500000\n",
       "75%    31.000000   1.000000\n",
       "max    37.000000   1.000000"
      ]
     },
     "execution_count": 21,
     "metadata": {},
     "output_type": "execute_result"
    }
   ],
   "source": [
    "import pandas as pd\n",
    "from sklearn.tree import DecisionTreeClassifier\n",
    "from sklearn.model_selection import train_test_split\n",
    "from sklearn.metrics import accuracy_score\n",
    "from sklearn import tree\n",
    "import joblib\n",
    "\n",
    "music_data = pd.read_csv('music.csv')\n",
    "music_data.describe()"
   ]
  },
  {
   "cell_type": "markdown",
   "id": "4ef21f40",
   "metadata": {},
   "source": [
    "### Preparing the data\n",
    "Since we don't have any missing records/duplicates, we don't need to clean the data. We're splitting the data into the input set and output set by dropping the 'genre' column. The output set contains the predictions."
   ]
  },
  {
   "cell_type": "code",
   "execution_count": 4,
   "id": "676ba17a",
   "metadata": {},
   "outputs": [],
   "source": [
    "# By convention, we use 'X' to represent our input data set\n",
    "X = music_data.drop(columns=['genre'])\n",
    "\n",
    "# By convention, we use 'y' to represent our output data set\n",
    "y = music_data['genre']"
   ]
  },
  {
   "cell_type": "markdown",
   "id": "f6e7b8af",
   "metadata": {},
   "source": [
    "### Building Our Model Using a ML Algorithm\n",
    "We're going to use a decision tree from the scikitlearn library."
   ]
  },
  {
   "cell_type": "code",
   "execution_count": 6,
   "id": "4ddf0fe2",
   "metadata": {},
   "outputs": [
    {
     "data": {
      "text/plain": [
       "array(['HipHop', 'Dance'], dtype=object)"
      ]
     },
     "execution_count": 6,
     "metadata": {},
     "output_type": "execute_result"
    }
   ],
   "source": [
    "model = DecisionTreeClassifier()\n",
    "\n",
    "# The .fit() method takes in the input data and output data, then trains the model\n",
    "# model.fit(X.values,y)\n",
    "\n",
    "# We're asking our model to make 2 predictions; 21M & 22F. Expecting 'HipHop' and 'Dance'\n",
    "# predictions = model.predict([ [21, 1], [22,0] ])\n",
    "# predictions"
   ]
  },
  {
   "cell_type": "markdown",
   "id": "e0f37b29",
   "metadata": {},
   "source": [
    "### Measuring Model Accuracy\n",
    "We're going to split our data into two sets: one for training and one for testing. A rule of thumb is to allocate 70-80% for training and 20-30% for testing. We're using accuracy_score to compare the predictions to the output data. The data changes everytime we run it, so the score does too. By changing the test size, we also affect the accuracy."
   ]
  },
  {
   "cell_type": "code",
   "execution_count": 16,
   "id": "380e0ade",
   "metadata": {},
   "outputs": [
    {
     "data": {
      "text/plain": [
       "1.0"
      ]
     },
     "execution_count": 16,
     "metadata": {},
     "output_type": "execute_result"
    }
   ],
   "source": [
    "# The function below returns a tuple, so we're destructuring it\n",
    "X_train, X_test, y_train, y_test = train_test_split(X, y, test_size=0.2)\n",
    "\n",
    "model.fit(X_train, y_train)\n",
    "predictions_new = model.predict(X_test) \n",
    "score = accuracy_score(y_test, predictions_new)\n",
    "score"
   ]
  },
  {
   "cell_type": "markdown",
   "id": "4dfb7a2c",
   "metadata": {},
   "source": [
    "### Model Persistence\n",
    "Training a model can be very time consuming, so we don't want to do that everytime. What we can do is train the model, then save it to a file. After that, when we want to make predictions, we load the file and use it to predict. We're doing this with joblib."
   ]
  },
  {
   "cell_type": "code",
   "execution_count": 17,
   "id": "8cdb649a",
   "metadata": {},
   "outputs": [
    {
     "data": {
      "text/plain": [
       "['music-recommender.joblib']"
      ]
     },
     "execution_count": 17,
     "metadata": {},
     "output_type": "execute_result"
    }
   ],
   "source": [
    "joblib.dump(model, 'music-recommender.joblib')"
   ]
  },
  {
   "cell_type": "code",
   "execution_count": 18,
   "id": "cf9f1eb4",
   "metadata": {},
   "outputs": [],
   "source": [
    "model = joblib.load('music-recommender.joblib')"
   ]
  },
  {
   "cell_type": "code",
   "execution_count": 19,
   "id": "ba4ed1c4",
   "metadata": {},
   "outputs": [
    {
     "name": "stderr",
     "output_type": "stream",
     "text": [
      "C:\\Users\\oluwa\\anaconda3\\Lib\\site-packages\\sklearn\\base.py:464: UserWarning: X does not have valid feature names, but DecisionTreeClassifier was fitted with feature names\n",
      "  warnings.warn(\n"
     ]
    },
    {
     "data": {
      "text/plain": [
       "array(['HipHop'], dtype=object)"
      ]
     },
     "execution_count": 19,
     "metadata": {},
     "output_type": "execute_result"
    }
   ],
   "source": [
    "predictions = model.predict([[21,1]])\n",
    "predictions"
   ]
  },
  {
   "cell_type": "markdown",
   "id": "16e62528",
   "metadata": {},
   "source": [
    "### Visualizing Decision Trees\n",
    "We're making use of the 'tree' library. This gives us a binary tree showing how our model makes decisions."
   ]
  },
  {
   "cell_type": "code",
   "execution_count": 22,
   "id": "445d32e9",
   "metadata": {},
   "outputs": [],
   "source": [
    "# Filled = gives every node a colour\n",
    "# Rounded = gives every node rounded edges\n",
    "# label = gives every node labels\n",
    "# class_names = show classes on nodes\n",
    "# feature_names = allows us see the rules\n",
    "tree.export_graphviz(model, out_file='music-recommender.dot', feature_names=['age', 'gender'], class_names=sorted(y.unique()), label='all', rounded=True, filled=True)"
   ]
  },
  {
   "cell_type": "code",
   "execution_count": null,
   "id": "364daafc",
   "metadata": {},
   "outputs": [],
   "source": []
  }
 ],
 "metadata": {
  "kernelspec": {
   "display_name": "Python 3 (ipykernel)",
   "language": "python",
   "name": "python3"
  },
  "language_info": {
   "codemirror_mode": {
    "name": "ipython",
    "version": 3
   },
   "file_extension": ".py",
   "mimetype": "text/x-python",
   "name": "python",
   "nbconvert_exporter": "python",
   "pygments_lexer": "ipython3",
   "version": "3.11.5"
  }
 },
 "nbformat": 4,
 "nbformat_minor": 5
}
